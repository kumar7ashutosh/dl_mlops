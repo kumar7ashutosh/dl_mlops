{
 "cells": [
  {
   "cell_type": "code",
   "execution_count": 1,
   "id": "61a60d8b",
   "metadata": {},
   "outputs": [],
   "source": [
    "from dataclasses import dataclass\n",
    "from pathlib import Path"
   ]
  },
  {
   "cell_type": "code",
   "execution_count": 2,
   "id": "b5978a90",
   "metadata": {},
   "outputs": [],
   "source": [
    "@dataclass(frozen=True)\n",
    "class diconfig:\n",
    "    root_dir:Path\n",
    "    source_URL:str\n",
    "    local_data_file:Path\n",
    "    unzip_dir:Path"
   ]
  },
  {
   "cell_type": "code",
   "execution_count": 3,
   "id": "81d7e5a9",
   "metadata": {},
   "outputs": [
    {
     "data": {
      "text/plain": [
       "'c:\\\\Users\\\\kumar\\\\OneDrive\\\\Desktop\\\\dl_mlops\\\\notebook'"
      ]
     },
     "execution_count": 3,
     "metadata": {},
     "output_type": "execute_result"
    }
   ],
   "source": [
    "%pwd"
   ]
  },
  {
   "cell_type": "code",
   "execution_count": 4,
   "id": "bb9f48a7",
   "metadata": {},
   "outputs": [],
   "source": [
    "import os"
   ]
  },
  {
   "cell_type": "code",
   "execution_count": 5,
   "id": "4c09b954",
   "metadata": {},
   "outputs": [],
   "source": [
    "os.chdir(\"../\")"
   ]
  },
  {
   "cell_type": "code",
   "execution_count": 6,
   "id": "5b7389f8",
   "metadata": {},
   "outputs": [
    {
     "data": {
      "text/plain": [
       "'c:\\\\Users\\\\kumar\\\\OneDrive\\\\Desktop\\\\dl_mlops'"
      ]
     },
     "execution_count": 6,
     "metadata": {},
     "output_type": "execute_result"
    }
   ],
   "source": [
    "%pwd"
   ]
  },
  {
   "cell_type": "code",
   "execution_count": 7,
   "id": "611be037",
   "metadata": {},
   "outputs": [],
   "source": [
    "from src.cnn.constants import *\n",
    "from src.cnn.utils.common import *"
   ]
  },
  {
   "cell_type": "code",
   "execution_count": 8,
   "id": "cfb674f8",
   "metadata": {},
   "outputs": [],
   "source": [
    "class configurationmanager:\n",
    "    def __init__(self,config_filepath=CONFIG_FILE_PATH,params_filepath=PARAMS_FILE_PATH):\n",
    "        self.config=read_yaml(config_filepath)\n",
    "        self.params=read_yaml(params_filepath)\n",
    "        \n",
    "        create_directories([self.config.artifacts_root])\n",
    "        \n",
    "    def get_di_config(self)->diconfig:\n",
    "        config=self.config.data_ingestion\n",
    "        create_directories([config.root_dir])\n",
    "        di_config=diconfig(\n",
    "            root_dir=config.root_dir,\n",
    "            source_URL=config.source_URL,\n",
    "            local_data_file=config.local_data_file,\n",
    "            unzip_dir=config.unzip_dir\n",
    "        )\n",
    "        return di_config"
   ]
  },
  {
   "cell_type": "code",
   "execution_count": 9,
   "id": "4f66f39b",
   "metadata": {},
   "outputs": [],
   "source": [
    "import zipfile\n",
    "import gdown\n",
    "from src.cnn import logger\n",
    "from src.cnn.utils.common import get_size"
   ]
  },
  {
   "cell_type": "code",
   "execution_count": 10,
   "id": "f505da12",
   "metadata": {},
   "outputs": [],
   "source": [
    "class di:\n",
    "    def __init__(self,config:diconfig):\n",
    "        self.config=config\n",
    "    def download_file(self)->str:\n",
    "        try:\n",
    "            data_url=self.config.source_URL\n",
    "            zip_url=self.config.local_data_file\n",
    "            os.makedirs('artifacts/data_ingestion',exist_ok=True)\n",
    "            file_id=data_url.split('/')[-2]\n",
    "            prefix='https://drive.google.com/uc?export=download&id='\n",
    "            gdown.download(prefix+file_id,zip_url)\n",
    "        except Exception as e:\n",
    "            raise e\n",
    "    def extract_zip(self):\n",
    "        unzip_path=self.config.unzip_dir\n",
    "        os.makedirs(unzip_path,exist_ok=True)\n",
    "        with zipfile.ZipFile(self.config.local_data_file) as zip_ref:\n",
    "            zip_ref.extractall(unzip_path)"
   ]
  },
  {
   "cell_type": "code",
   "execution_count": 12,
   "id": "a1aa0fe0",
   "metadata": {},
   "outputs": [
    {
     "name": "stdout",
     "output_type": "stream",
     "text": [
      "[2025-10-16 18:24:26,646: INFO: common: config\\config.yaml loaded successfully]\n",
      "[2025-10-16 18:24:26,680: INFO: common: params.yaml loaded successfully]\n",
      "[2025-10-16 18:24:26,684: INFO: common: created directory at artifacts]\n",
      "[2025-10-16 18:24:26,688: INFO: common: created directory at artifacts/data_ingestion]\n"
     ]
    },
    {
     "name": "stderr",
     "output_type": "stream",
     "text": [
      "Downloading...\n",
      "From (original): https://drive.google.com/uc?export=download&id=1jqGviAINxjfWNNn2ZKPRlyniw_bFqFgY\n",
      "From (redirected): https://drive.google.com/uc?export=download&id=1jqGviAINxjfWNNn2ZKPRlyniw_bFqFgY&confirm=t&uuid=1103fce9-b1da-4b95-b44b-d43b4195b677\n",
      "To: c:\\Users\\kumar\\OneDrive\\Desktop\\dl_mlops\\artifacts\\data_ingestion\\data.zip\n",
      "100%|██████████| 49.0M/49.0M [02:11<00:00, 371kB/s] \n"
     ]
    }
   ],
   "source": [
    "config=configurationmanager()\n",
    "di_config=config.get_di_config()\n",
    "di=di(config=di_config)\n",
    "di.download_file()\n",
    "di.extract_zip()"
   ]
  },
  {
   "cell_type": "code",
   "execution_count": null,
   "id": "9850bee7",
   "metadata": {},
   "outputs": [],
   "source": []
  }
 ],
 "metadata": {
  "kernelspec": {
   "display_name": "base",
   "language": "python",
   "name": "python3"
  },
  "language_info": {
   "codemirror_mode": {
    "name": "ipython",
    "version": 3
   },
   "file_extension": ".py",
   "mimetype": "text/x-python",
   "name": "python",
   "nbconvert_exporter": "python",
   "pygments_lexer": "ipython3",
   "version": "3.12.7"
  }
 },
 "nbformat": 4,
 "nbformat_minor": 5
}
