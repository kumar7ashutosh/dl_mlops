{
 "cells": [
  {
   "cell_type": "code",
   "execution_count": 1,
   "id": "231789df",
   "metadata": {},
   "outputs": [],
   "source": [
    "import gdown"
   ]
  },
  {
   "cell_type": "code",
   "execution_count": 2,
   "id": "b7e3fb44",
   "metadata": {},
   "outputs": [],
   "source": [
    "url=\"https://drive.google.com/file/d/1jqGviAINxjfWNNn2ZKPRlyniw_bFqFgY/view?usp=sharing\""
   ]
  },
  {
   "cell_type": "code",
   "execution_count": 11,
   "id": "8296520e",
   "metadata": {},
   "outputs": [
    {
     "data": {
      "text/plain": [
       "'1jqGviAINxjfWNNn2ZKPRlyniw_bFqFgY'"
      ]
     },
     "execution_count": 11,
     "metadata": {},
     "output_type": "execute_result"
    }
   ],
   "source": [
    "file_id=url.split('/')[-2]\n",
    "file_id"
   ]
  },
  {
   "cell_type": "code",
   "execution_count": 4,
   "id": "00e38124",
   "metadata": {},
   "outputs": [
    {
     "name": "stderr",
     "output_type": "stream",
     "text": [
      "Downloading...\n",
      "From (original): https://drive.google.com/uc?export=download&id=1jqGviAINxjfWNNn2ZKPRlyniw_bFqFgY\n",
      "From (redirected): https://drive.google.com/uc?export=download&id=1jqGviAINxjfWNNn2ZKPRlyniw_bFqFgY&confirm=t&uuid=8097fbb7-a2a9-410c-a2bc-4deac7f843de\n",
      "To: c:\\Users\\kumar\\OneDrive\\Desktop\\dl_mlops\\notebook\\chest-ct-scan.zip\n",
      "100%|██████████| 49.0M/49.0M [00:44<00:00, 1.11MB/s]\n"
     ]
    },
    {
     "data": {
      "text/plain": [
       "'chest-ct-scan.zip'"
      ]
     },
     "execution_count": 4,
     "metadata": {},
     "output_type": "execute_result"
    }
   ],
   "source": [
    "prefix='https://drive.google.com/uc?export=download&id='\n",
    "gdown.download(prefix+file_id,'chest-ct-scan.zip')"
   ]
  },
  {
   "cell_type": "code",
   "execution_count": null,
   "id": "636da6fd",
   "metadata": {},
   "outputs": [],
   "source": []
  }
 ],
 "metadata": {
  "kernelspec": {
   "display_name": "base",
   "language": "python",
   "name": "python3"
  },
  "language_info": {
   "codemirror_mode": {
    "name": "ipython",
    "version": 3
   },
   "file_extension": ".py",
   "mimetype": "text/x-python",
   "name": "python",
   "nbconvert_exporter": "python",
   "pygments_lexer": "ipython3",
   "version": "3.12.7"
  }
 },
 "nbformat": 4,
 "nbformat_minor": 5
}
